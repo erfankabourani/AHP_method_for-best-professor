{
 "cells": [
  {
   "cell_type": "code",
   "execution_count": 1,
   "metadata": {},
   "outputs": [],
   "source": [
    "import numpy as np\n",
    "import pandas as pd"
   ]
  },
  {
   "cell_type": "code",
   "execution_count": 8,
   "metadata": {},
   "outputs": [
    {
     "data": {
      "text/html": [
       "<div>\n",
       "<style scoped>\n",
       "    .dataframe tbody tr th:only-of-type {\n",
       "        vertical-align: middle;\n",
       "    }\n",
       "\n",
       "    .dataframe tbody tr th {\n",
       "        vertical-align: top;\n",
       "    }\n",
       "\n",
       "    .dataframe thead th {\n",
       "        text-align: right;\n",
       "    }\n",
       "</style>\n",
       "<table border=\"1\" class=\"dataframe\">\n",
       "  <thead>\n",
       "    <tr style=\"text-align: right;\">\n",
       "      <th></th>\n",
       "      <th>age</th>\n",
       "      <th>articles</th>\n",
       "      <th>experiments</th>\n",
       "      <th>ability for study</th>\n",
       "    </tr>\n",
       "    <tr>\n",
       "      <th>0 column</th>\n",
       "      <th></th>\n",
       "      <th></th>\n",
       "      <th></th>\n",
       "      <th></th>\n",
       "    </tr>\n",
       "  </thead>\n",
       "  <tbody>\n",
       "    <tr>\n",
       "      <th>age</th>\n",
       "      <td>1.00</td>\n",
       "      <td>5.00</td>\n",
       "      <td>3.00</td>\n",
       "      <td>7</td>\n",
       "    </tr>\n",
       "    <tr>\n",
       "      <th>articles</th>\n",
       "      <td>0.20</td>\n",
       "      <td>1.00</td>\n",
       "      <td>1.00</td>\n",
       "      <td>3</td>\n",
       "    </tr>\n",
       "    <tr>\n",
       "      <th>experiments</th>\n",
       "      <td>0.33</td>\n",
       "      <td>1.00</td>\n",
       "      <td>1.00</td>\n",
       "      <td>3</td>\n",
       "    </tr>\n",
       "    <tr>\n",
       "      <th>ability for study</th>\n",
       "      <td>0.14</td>\n",
       "      <td>0.33</td>\n",
       "      <td>0.33</td>\n",
       "      <td>1</td>\n",
       "    </tr>\n",
       "  </tbody>\n",
       "</table>\n",
       "</div>"
      ],
      "text/plain": [
       "                    age  articles  experiments  ability for study\n",
       "0 column                                                         \n",
       "age                1.00      5.00         3.00                  7\n",
       "articles           0.20      1.00         1.00                  3\n",
       "experiments        0.33      1.00         1.00                  3\n",
       "ability for study  0.14      0.33         0.33                  1"
      ]
     },
     "execution_count": 8,
     "metadata": {},
     "output_type": "execute_result"
    }
   ],
   "source": [
    "# build a dataframe\n",
    "dict_df = {'0 column': ['age' , 'articles' , 'experiments' , 'ability for study'],\n",
    "            'age' : [1 , 0.2 , 0.33 , 0.14],\n",
    "            'articles' : [5 , 1 , 1 , 0.33],\n",
    "            'experiments' : [3 , 1 , 1 , 0.33],\n",
    "            'ability for study' : [7 , 3 , 3 , 1]}\n",
    "df_com_criteria = pd.DataFrame(dict_df)\n",
    "df = df_com_criteria.set_index('0 column')\n",
    "df"
   ]
  },
  {
   "cell_type": "code",
   "execution_count": 11,
   "metadata": {},
   "outputs": [
    {
     "data": {
      "text/plain": [
       "array([[1.  , 5.  , 3.  , 7.  ],\n",
       "       [0.2 , 1.  , 1.  , 3.  ],\n",
       "       [0.33, 1.  , 1.  , 3.  ],\n",
       "       [0.14, 0.33, 0.33, 1.  ]])"
      ]
     },
     "execution_count": 11,
     "metadata": {},
     "output_type": "execute_result"
    }
   ],
   "source": [
    "matrix = np.array(df)\n",
    "matrix"
   ]
  },
  {
   "cell_type": "code",
   "execution_count": 54,
   "metadata": {},
   "outputs": [
    {
     "data": {
      "text/plain": [
       "array([0.5859456 , 0.16452228, 0.18398335, 0.06554877])"
      ]
     },
     "execution_count": 54,
     "metadata": {},
     "output_type": "execute_result"
    }
   ],
   "source": [
    "# calculate the weight of matrix\n",
    "def weight(input_matrix):\n",
    "    d = input_matrix / np.sum(input_matrix , axis=0)\n",
    "    a = np.sum(d , axis=1) / input_matrix.shape[0]\n",
    "    return a\n",
    "weight(matrix)"
   ]
  },
  {
   "cell_type": "code",
   "execution_count": 77,
   "metadata": {},
   "outputs": [],
   "source": [
    "# now, build matrices for every indicators\n",
    "dict_age = {'professors' : ['A' , 'B' , 'C'],\n",
    "            'A': [1 , 0.33 , 0.5],\n",
    "            'B': [3 , 1 , 1],\n",
    "            'C': [2 , 1 , 1]}\n",
    "df_alt_age = pd.DataFrame(dict_age).set_index('professors')\n",
    "matrix_age = np.array(df_alt_age)\n",
    "weight_age = weight(matrix_age)\n",
    "dict_articles = {'professors' : ['A' , 'B' , 'C'],\n",
    "            'A': [1 , 0.2 , 0.11],\n",
    "            'B': [5 , 1 , 0.33],\n",
    "            'C': [9 , 3 , 1]}\n",
    "df_alt_articles = pd.DataFrame(dict_articles).set_index('professors')\n",
    "matrix_articles = np.array(df_alt_articles)\n",
    "weight_articles = weight(matrix_articles)\n",
    "dict_experiments = {'professors' : ['A' , 'B' , 'C'],\n",
    "            'A': [1 , 0.143 , 0.143],\n",
    "            'B': [7 , 1 , 0.5],\n",
    "            'C': [7 , 2 , 1]}\n",
    "df_alt_experiments = pd.DataFrame(dict_experiments).set_index('professors')\n",
    "matrix_experiments = np.array(df_alt_experiments)\n",
    "weight_experiments = weight(matrix_experiments)\n",
    "dict_study = {'professors' : ['A' , 'B' , 'C'],\n",
    "            'A': [1 , 3 , 0.25],\n",
    "            'B': [0.33 , 1 , 0.17],\n",
    "            'C': [4 , 6 , 1]}\n",
    "df_alt_study = pd.DataFrame(dict_study).set_index('professors')\n",
    "matrix_study = np.array(df_alt_study)\n",
    "weight_study = weight(matrix_study)"
   ]
  },
  {
   "cell_type": "code",
   "execution_count": 91,
   "metadata": {},
   "outputs": [
    {
     "data": {
      "text/plain": [
       "array([0.6037411 , 0.22101211, 0.17524679])"
      ]
     },
     "execution_count": 91,
     "metadata": {},
     "output_type": "execute_result"
    }
   ],
   "source": [
    "# multiply weight of indicarors to weight of main matrix\n",
    "matrix_criteria = np.array([weight_age , weight_articles , weight_experiments , weight_study]).T\n",
    "np.dot(matrix_criteria , weight(matrix))"
   ]
  },
  {
   "cell_type": "markdown",
   "metadata": {},
   "source": [
    "professor A is choosen"
   ]
  }
 ],
 "metadata": {
  "kernelspec": {
   "display_name": "Python 3.10.6 64-bit",
   "language": "python",
   "name": "python3"
  },
  "language_info": {
   "codemirror_mode": {
    "name": "ipython",
    "version": 3
   },
   "file_extension": ".py",
   "mimetype": "text/x-python",
   "name": "python",
   "nbconvert_exporter": "python",
   "pygments_lexer": "ipython3",
   "version": "3.10.6"
  },
  "orig_nbformat": 4,
  "vscode": {
   "interpreter": {
    "hash": "c5e58a5e7619179b794895be89eb272376f1504c9a8abee14733667cf7f14669"
   }
  }
 },
 "nbformat": 4,
 "nbformat_minor": 2
}
